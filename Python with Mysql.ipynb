{
 "cells": [
  {
   "cell_type": "code",
   "execution_count": null,
   "id": "2d335b2c-3c90-469f-9486-fb16df1ef0a3",
   "metadata": {},
   "outputs": [],
   "source": [
    "#PYthon with Mysql connection and create, insert,delete,update,join"
   ]
  },
  {
   "cell_type": "code",
   "execution_count": 70,
   "id": "020ee962-aeda-41ce-9b35-16b33619354d",
   "metadata": {},
   "outputs": [],
   "source": [
    "from mysql.connector import connect "
   ]
  },
  {
   "cell_type": "code",
   "execution_count": 208,
   "id": "256c3344-687b-406b-a9c9-b7f15522550d",
   "metadata": {},
   "outputs": [
    {
     "name": "stdout",
     "output_type": "stream",
     "text": [
      "======databases========\n",
      "('employees',)\n",
      "('information_schema',)\n",
      "('mysql',)\n",
      "('performance_schema',)\n",
      "('raja',)\n",
      "('sys',)\n",
      "========tables==========\n",
      "('employeedetails',)\n",
      "('example',)\n",
      "('institute_std',)\n",
      "('std_cource_name',)\n"
     ]
    }
   ],
   "source": [
    "mydb=connect(\n",
    "    host=\"localhost\",#local host name\n",
    "    user= \"root\",# local lost user name\n",
    "    password=\"***\" #password \n",
    ")\n",
    "mycursor=mydb.cursor()\n",
    "mycursor.execute(\"show databases\")\n",
    "print(\"======databases========\")\n",
    "for x in mycursor:\n",
    "    print(x)\n",
    "  \n",
    "mycursor.execute(\"use raja\")\n",
    "mycursor.execute(\"show tables\")\n",
    "print(\"========tables==========\")\n",
    "for x in mycursor:\n",
    "    print(x)"
   ]
  },
  {
   "cell_type": "code",
   "execution_count": 177,
   "id": "09ade736-d701-4e67-9d9c-3bdf751ddf66",
   "metadata": {},
   "outputs": [
    {
     "name": "stdout",
     "output_type": "stream",
     "text": [
      "('Alice', Decimal('60000.00'), 'Tech Solutions', 'New York')\n",
      "('Bob', Decimal('55000.00'), 'Innovatech', 'San Francisco')\n",
      "('Charlie', Decimal('70000.00'), 'Cyber Dynamics', 'Los Angeles')\n",
      "('Charlie', Decimal('70000.00'), 'Cyber Dynamics', 'Los Angeles')\n",
      "('David', Decimal('48000.00'), 'Eco Ventures', 'Austin')\n",
      "('Eve', Decimal('75000.00'), 'NextGen Inc.', 'Chicago')\n",
      "('Eve', Decimal('75000.00'), 'NextGen Inc.', 'Chicago')\n",
      "('Grace', Decimal('68000.00'), 'DataCorp', 'Seattle')\n",
      "('Hank', Decimal('52000.00'), 'BuildWare', 'Houston')\n",
      "('Ivy', Decimal('72000.00'), 'Green Energy', 'Boston')\n",
      "('Ivy', Decimal('72000.00'), 'Green Energy', 'Boston')\n",
      "('John', Decimal('51000.00'), 'SoftTech', 'Denver')\n"
     ]
    }
   ],
   "source": [
    "\n",
    "mycursor.execute(\"USE raja\")  # use database 'raja' with your actual database name\n",
    "\n",
    "mycursor.execute(\"SELECT * FROM employeedetails\") #table name\n",
    "myresult=mycursor.fetchall() # We use the fetchall() method, which fetches all rows from the last executed statement.\n",
    "for x in myresult:\n",
    "    print(x)\n",
    "\n",
    "  \n",
    "      \n"
   ]
  },
  {
   "cell_type": "code",
   "execution_count": null,
   "id": "bb90c5fe-6f32-4b9b-b397-4cf7e82301ea",
   "metadata": {},
   "outputs": [],
   "source": [
    "# creating \n",
    "mycursor.execute(\"\"\"\n",
    "    CREATE TABLE Institute_std (\n",
    "        sno INT AUTO_INCREMENT PRIMARY KEY,\n",
    "        name VARCHAR(10),\n",
    "        qualification VARCHAR(10),\n",
    "        phone VARCHAR(10),\n",
    "        fee VARCHAR(10)\n",
    "    )\n",
    "\"\"\")\n",
    "\n",
    "mydb.commit()# save tha changes in databases"
   ]
  },
  {
   "cell_type": "code",
   "execution_count": 99,
   "id": "c2edb8b7-8cd0-444a-8dc7-5efaa1e94bbd",
   "metadata": {},
   "outputs": [],
   "source": [
    "# Define your data as a list of tuples\n",
    "data = [\n",
    "    ('Alice', 'Bachelor', '1234567890', '2000'),\n",
    "    ('Bob', 'Master', '2345678901', '3000'),\n",
    "    ('Charlie', 'PhD', '3456789012', '4000'),\n",
    "    ('David', 'Bachelor', '4567890123', '2500'),\n",
    "    ('Eve', 'Master', '5678901234', '3500'),\n",
    "    ('Frank', 'PhD', '6789012345', '4500'),\n",
    "    ('Grace', 'Bachelor', '7890123456', '2700'),\n",
    "    ('Heidi', 'Master', '8901234567', '3700'),\n",
    "    ('Ivan', 'PhD', '9012345678', '4700'),\n",
    "    ('Judy', 'Bachelor', '0123456789', '2900')\n",
    "]\n",
    "\n",
    "# Use executemany with the correct syntax\n",
    "mycursor.executemany(\n",
    "    \"INSERT INTO Institute_std (name, qualification, phone, fee) VALUES (%s, %s, %s, %s)\",\n",
    "    data\n",
    ")\n",
    "\n",
    "# Commit the transaction to save the changes\n",
    "mydb.commit()\n"
   ]
  },
  {
   "cell_type": "code",
   "execution_count": 142,
   "id": "a6b50b8a-4391-43b6-ab6a-9f88b85247d0",
   "metadata": {},
   "outputs": [
    {
     "name": "stdout",
     "output_type": "stream",
     "text": [
      "(1, 'Alice', 'Bachelor', '1234567890', '2000')\n",
      "(2, 'Bob', 'Master', '2345678901', '3000')\n",
      "(3, 'Charlie', 'PhD', '3456789012', '4000')\n",
      "(4, 'David', 'Bachelor', '4567890123', '2500')\n",
      "(5, 'Eve', 'Master', '5678901234', '3500')\n",
      "(6, 'Frank', 'PhD', '6789012345', '4500')\n",
      "(7, 'Grace', 'Bachelor', '7890123456', '2700')\n",
      "(8, 'Heidi', 'Master', '8901234567', '3700')\n",
      "(9, 'Ivan', 'PhD', '9012345678', '4700')\n",
      "(10, 'Judy', 'Bachelor', '0123456789', '2900')\n",
      "(11, 'Alice', 'Bachelor', '1234567890', '2000')\n",
      "(12, 'Bob', 'Master', '2345678901', '3000')\n",
      "(13, 'Charlie', 'PhD', '3456789012', '4000')\n",
      "(14, 'David', 'Bachelor', '4567890123', '2500')\n",
      "(15, 'Eve', 'Master', '5678901234', '3500')\n",
      "(16, 'Frank', 'PhD', '6789012345', '4500')\n",
      "(17, 'Grace', 'Bachelor', '7890123456', '2700')\n",
      "(18, 'Heidi', 'Master', '8901234567', '3700')\n",
      "(19, 'Ivan', 'PhD', '9012345678', '4700')\n",
      "(20, 'Judy', 'Bachelor', '0123456789', '2900')\n"
     ]
    }
   ],
   "source": [
    "\n",
    "mycursor.execute(\"select * from Institute_std\")# selecting all data form Institute_std table\n",
    "result=mycursor.fetchall()\n",
    "\n",
    "for x in result:\n",
    "    print(x)"
   ]
  },
  {
   "cell_type": "code",
   "execution_count": null,
   "id": "d96bfbca-3fec-48f8-9a6d-98b962ef41ab",
   "metadata": {},
   "outputs": [],
   "source": [
    "# creating another table\n",
    "mycursor.execute(\"create table std_cource_name(id int,cource varchar(10)\")\n",
    "\n"
   ]
  },
  {
   "cell_type": "code",
   "execution_count": 204,
   "id": "8cd2e605-e4b0-4d45-978a-b482999bc6c3",
   "metadata": {},
   "outputs": [],
   "source": [
    "course_data = [\n",
    "    (10, 'Math'), \n",
    "  ]\n",
    "\n",
    "# Use executemany() for inserting multiple records\n",
    "mycursor.executemany(\"INSERT INTO std_cource_name (id, cource) VALUES (%s, %s)\", course_data)\n",
    "\n",
    "# Commit the transaction\n",
    "mydb.commit()\n",
    "mycursor.execute(\"select * from std_cource_name \")\n",
    "\n",
    "mylist=mycursor.fetchall()\n",
    "\n",
    "    "
   ]
  },
  {
   "cell_type": "code",
   "execution_count": 212,
   "id": "0c0fc894-82ca-42c0-bdf2-c4f98f8a88ca",
   "metadata": {},
   "outputs": [
    {
     "name": "stdout",
     "output_type": "stream",
     "text": [
      "(20, 'Judy', 'Bachelor', '0123456789', '2900', None, None)\n",
      "(19, 'Ivan', 'PhD', '9012345678', '4700', None, None)\n",
      "(18, 'Heidi', 'Master', '8901234567', '3700', None, None)\n",
      "(17, 'Grace', 'Bachelor', '7890123456', '2700', None, None)\n",
      "(16, 'Frank', 'PhD', '6789012345', '4500', None, None)\n",
      "(15, 'Eve', 'Master', '5678901234', '3500', None, None)\n",
      "(14, 'David', 'Bachelor', '4567890123', '2500', None, None)\n",
      "(13, 'Charlie', 'PhD', '3456789012', '4000', None, None)\n",
      "(12, 'Bob', 'Master', '2345678901', '3000', None, None)\n",
      "(11, 'Alice', 'Bachelor', '1234567890', '2000', None, None)\n",
      "(10, 'Judy', 'Bachelor', '0123456789', '2900', 'Math', 10)\n",
      "(10, 'Judy', 'Bachelor', '0123456789', '2900', 'Math', 10)\n",
      "(9, 'Ivan', 'PhD', '9012345678', '4700', None, None)\n",
      "(8, 'Heidi', 'Master', '8901234567', '3700', None, None)\n",
      "(7, 'Grace', 'Bachelor', '7890123456', '2700', None, None)\n",
      "(6, 'Frank', 'PhD', '6789012345', '4500', None, None)\n",
      "(5, 'Eve', 'Master', '5678901234', '3500', None, None)\n",
      "(4, 'David', 'Bachelor', '4567890123', '2500', None, None)\n",
      "(3, 'Charlie', 'PhD', '3456789012', '4000', None, None)\n",
      "(2, 'Bob', 'Master', '2345678901', '3000', 'Science', 2)\n",
      "(2, 'Bob', 'Master', '2345678901', '3000', 'Science', 2)\n",
      "(1, 'Alice', 'Bachelor', '1234567890', '2000', None, None)\n"
     ]
    }
   ],
   "source": [
    "query = \"\"\"\n",
    "SELECT \n",
    "    Institute_std.sno,\n",
    "    Institute_std.name,\n",
    "    Institute_std.qualification,\n",
    "    Institute_std.phone,\n",
    "    Institute_std.fee,\n",
    "    std_cource_name.cource ,\n",
    "    std_cource_name.id\n",
    "FROM \n",
    "    Institute_std   left JOIN \n",
    "    std_cource_name \n",
    "ON \n",
    "    Institute_std.sno = std_cource_name.id \n",
    "    ORDER BY \n",
    "    Institute_std.sno desc\n",
    "    \n",
    "    ;\n",
    "\n",
    "\"\"\"\n",
    "\n",
    "mycursor.execute(query)\n",
    "\n",
    "# Fetch and print the results\n",
    "for x in mycursor.fetchall():\n",
    "    print(x)\n"
   ]
  },
  {
   "cell_type": "code",
   "execution_count": 214,
   "id": "408195ba-0f8b-4e95-8721-4098b5678a56",
   "metadata": {},
   "outputs": [
    {
     "name": "stdout",
     "output_type": "stream",
     "text": [
      "(20, 'Judy', 'Bachelor', '0123456789', '2900', None, None)\n",
      "(19, 'Ivan', 'PhD', '9012345678', '4700', None, None)\n",
      "(18, 'Heidi', 'Master', '8901234567', '3700', None, None)\n",
      "(17, 'Grace', 'Bachelor', '7890123456', '2700', None, None)\n",
      "(16, 'Frank', 'PhD', '6789012345', '4500', None, None)\n",
      "(15, 'Eve', 'Master', '5678901234', '3500', None, None)\n",
      "(14, 'David', 'Bachelor', '4567890123', '2500', None, None)\n",
      "(13, 'Charlie', 'PhD', '3456789012', '4000', None, None)\n",
      "(12, 'Bob', 'Master', '2345678901', '3000', None, None)\n",
      "(11, 'Alice', 'Bachelor', '1234567890', '2000', None, None)\n",
      "(10, 'Judy', 'Bachelor', '0123456789', '2900', 'Math', 10)\n",
      "(10, 'Judy', 'Bachelor', '0123456789', '2900', 'Math', 10)\n",
      "(9, 'Ivan', 'PhD', '9012345678', '4700', None, None)\n",
      "(8, 'Heidi', 'Master', '8901234567', '3700', None, None)\n",
      "(7, 'Grace', 'Bachelor', '7890123456', '2700', None, None)\n",
      "(6, 'Frank', 'PhD', '6789012345', '4500', None, None)\n",
      "(5, 'Eve', 'Master', '5678901234', '3500', None, None)\n"
     ]
    }
   ],
   "source": [
    "#with where clause\n",
    "query = \"\"\"\n",
    "SELECT \n",
    "    Institute_std.sno,\n",
    "    Institute_std.name,\n",
    "    Institute_std.qualification,\n",
    "    Institute_std.phone,\n",
    "    Institute_std.fee,\n",
    "    std_cource_name.cource ,\n",
    "    std_cource_name.id\n",
    "FROM \n",
    "    Institute_std   left JOIN \n",
    "    std_cource_name \n",
    "ON \n",
    "    Institute_std.sno = std_cource_name.id where  Institute_std.sno>4\n",
    "    ORDER BY \n",
    "    Institute_std.sno desc\n",
    "    \n",
    "    ;\n",
    "\n",
    "\"\"\"\n",
    "\n",
    "mycursor.execute(query)\n",
    "\n",
    "# Fetch and print the results\n",
    "for x in mycursor.fetchall():\n",
    "    print(x)\n",
    "\n"
   ]
  },
  {
   "cell_type": "code",
   "execution_count": 218,
   "id": "951e9e5a-7ccb-4f2e-81f4-011a3bac9ef2",
   "metadata": {},
   "outputs": [],
   "source": [
    "#delete data with where clause from the table\n",
    "query=\"delete from  Institute_std where qualification='PhD' \"\n",
    "mycursor.execute(query)"
   ]
  },
  {
   "cell_type": "code",
   "execution_count": 223,
   "id": "11bf5422-af06-471b-9899-feaae6dc4f97",
   "metadata": {},
   "outputs": [
    {
     "name": "stdout",
     "output_type": "stream",
     "text": [
      "(1, 'Alice', 'Bachelor', '1234567890', '2000')\n",
      "(2, 'Bob', 'Master', '2345678901', '3000')\n",
      "(4, 'David', 'Bachelor', '4567890123', '2500')\n",
      "(5, 'Eve', 'Master', '5678901234', '3500')\n",
      "(7, 'Grace', 'Bachelor', '7890123456', '2700')\n",
      "(8, 'Heidi', 'Master', '8901234567', '3700')\n",
      "(10, 'Judy', 'Bachelor', '0123456789', '2900')\n",
      "(11, 'Alice', 'Bachelor', '1234567890', '2000')\n",
      "(12, 'Bob', 'Master', '2345678901', '3000')\n",
      "(14, 'David', 'Bachelor', '4567890123', '2500')\n",
      "(15, 'Eve', 'Master', '5678901234', '3500')\n",
      "(17, 'Grace', 'Bachelor', '7890123456', '2700')\n",
      "(18, 'Heidi', 'Master', '8901234567', '3700')\n",
      "(20, 'Judy', 'Bachelor', '0123456789', '2900')\n"
     ]
    }
   ],
   "source": [
    "\n",
    "mycursor.execute(\"select * from Institute_std \")\n",
    "for x in mycursor.fetchall():\n",
    "    print(x)\n",
    "\n"
   ]
  },
  {
   "cell_type": "code",
   "execution_count": 224,
   "id": "52cec5fc-4fe7-4e4b-bb25-a7c54bd036e1",
   "metadata": {},
   "outputs": [],
   "source": [
    "#updating the table\n",
    "quary=\"update Institute_std  set fee=5000 where sno=2\"\n",
    "mycursor.execute(quary)\n"
   ]
  },
  {
   "cell_type": "code",
   "execution_count": 225,
   "id": "d1012131-44b0-46de-9c1f-26a6b2ba4514",
   "metadata": {},
   "outputs": [
    {
     "name": "stdout",
     "output_type": "stream",
     "text": [
      "(1, 'Alice', 'Bachelor', '1234567890', '2000')\n",
      "(2, 'Bob', 'Master', '2345678901', '5000')\n",
      "(4, 'David', 'Bachelor', '4567890123', '2500')\n",
      "(5, 'Eve', 'Master', '5678901234', '3500')\n",
      "(7, 'Grace', 'Bachelor', '7890123456', '2700')\n",
      "(8, 'Heidi', 'Master', '8901234567', '3700')\n",
      "(10, 'Judy', 'Bachelor', '0123456789', '2900')\n",
      "(11, 'Alice', 'Bachelor', '1234567890', '2000')\n",
      "(12, 'Bob', 'Master', '2345678901', '3000')\n",
      "(14, 'David', 'Bachelor', '4567890123', '2500')\n",
      "(15, 'Eve', 'Master', '5678901234', '3500')\n",
      "(17, 'Grace', 'Bachelor', '7890123456', '2700')\n",
      "(18, 'Heidi', 'Master', '8901234567', '3700')\n",
      "(20, 'Judy', 'Bachelor', '0123456789', '2900')\n"
     ]
    }
   ],
   "source": [
    "\n",
    "mycursor.execute(\"select * from Institute_std \")\n",
    "for x in mycursor.fetchall():\n",
    "    print(x)\n"
   ]
  }
 ],
 "metadata": {
  "kernelspec": {
   "display_name": "Python 3 (ipykernel)",
   "language": "python",
   "name": "python3"
  },
  "language_info": {
   "codemirror_mode": {
    "name": "ipython",
    "version": 3
   },
   "file_extension": ".py",
   "mimetype": "text/x-python",
   "name": "python",
   "nbconvert_exporter": "python",
   "pygments_lexer": "ipython3",
   "version": "3.8.10"
  }
 },
 "nbformat": 4,
 "nbformat_minor": 5
}
